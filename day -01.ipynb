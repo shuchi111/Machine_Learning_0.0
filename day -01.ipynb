{
 "cells": [
  {
   "cell_type": "markdown",
   "id": "9bb4c0c5-111f-4edd-9120-4a2f7c421892",
   "metadata": {},
   "source": [
    "\n",
    "\n",
    "**Basic of  Python**\n",
    "- Various data types in python \n",
    "- Variable\n",
    "- Variable Assignment\n",
    "- Print formatting\n"
   ]
  },
  {
   "cell_type": "markdown",
   "id": "dcaffa17-3036-411b-97d8-8d7102c4a72e",
   "metadata": {},
   "source": [
    "Datatypes in python \n",
    "\n",
    "**Numbers**"
   ]
  },
  {
   "cell_type": "code",
   "execution_count": 1,
   "id": "af2497ed-921e-4f0a-a89f-d9f1b862c15f",
   "metadata": {},
   "outputs": [
    {
     "data": {
      "text/plain": [
       "2"
      ]
     },
     "execution_count": 1,
     "metadata": {},
     "output_type": "execute_result"
    }
   ],
   "source": [
    "1+1"
   ]
  },
  {
   "cell_type": "code",
   "execution_count": 2,
   "id": "b01f6a01-baa5-4f0c-86e3-bebda6c52cf2",
   "metadata": {},
   "outputs": [
    {
     "data": {
      "text/plain": [
       "4068"
      ]
     },
     "execution_count": 2,
     "metadata": {},
     "output_type": "execute_result"
    }
   ],
   "source": [
    "2*3*678"
   ]
  },
  {
   "cell_type": "code",
   "execution_count": 3,
   "id": "3688f423-ec3e-4c23-a1d8-35bfcb106c61",
   "metadata": {},
   "outputs": [
    {
     "data": {
      "text/plain": [
       "164.5"
      ]
     },
     "execution_count": 3,
     "metadata": {},
     "output_type": "execute_result"
    }
   ],
   "source": [
    " 987/6"
   ]
  },
  {
   "cell_type": "markdown",
   "id": "09b86762-a18d-46c1-af6f-f7fd85f6942d",
   "metadata": {},
   "source": [
    "**Check the data types**"
   ]
  },
  {
   "cell_type": "code",
   "execution_count": 5,
   "id": "038a973b-1409-4e5b-aa2e-d1770950bf87",
   "metadata": {},
   "outputs": [
    {
     "data": {
      "text/plain": [
       "int"
      ]
     },
     "execution_count": 5,
     "metadata": {},
     "output_type": "execute_result"
    }
   ],
   "source": [
    "type(7)"
   ]
  },
  {
   "cell_type": "code",
   "execution_count": 6,
   "id": "266876f8-5c4a-4740-8d87-af5e8fd21367",
   "metadata": {},
   "outputs": [
    {
     "data": {
      "text/plain": [
       "str"
      ]
     },
     "execution_count": 6,
     "metadata": {},
     "output_type": "execute_result"
    }
   ],
   "source": [
    "type(\"hello\")"
   ]
  },
  {
   "cell_type": "code",
   "execution_count": 11,
   "id": "341f9b87-a393-442b-bd6c-410018014708",
   "metadata": {},
   "outputs": [
    {
     "data": {
      "text/plain": [
       "float"
      ]
     },
     "execution_count": 11,
     "metadata": {},
     "output_type": "execute_result"
    }
   ],
   "source": [
    "type(9.09)"
   ]
  },
  {
   "cell_type": "code",
   "execution_count": 7,
   "id": "9043c6ca-c1e3-40bf-a923-e48773e22087",
   "metadata": {},
   "outputs": [
    {
     "data": {
      "text/plain": [
       "bool"
      ]
     },
     "execution_count": 7,
     "metadata": {},
     "output_type": "execute_result"
    }
   ],
   "source": [
    "type(True)"
   ]
  },
  {
   "cell_type": "markdown",
   "id": "2bb5ad78-31ad-45e3-ad72-c4a4e2a49001",
   "metadata": {},
   "source": [
    "**Strings**"
   ]
  },
  {
   "cell_type": "code",
   "execution_count": 8,
   "id": "fe9111d4-1347-45bb-a504-76f21735ef2c",
   "metadata": {},
   "outputs": [
    {
     "data": {
      "text/plain": [
       "'Hello'"
      ]
     },
     "execution_count": 8,
     "metadata": {},
     "output_type": "execute_result"
    }
   ],
   "source": [
    "\"Hello\""
   ]
  },
  {
   "cell_type": "code",
   "execution_count": 10,
   "id": "028c6d40-fc2d-472d-94dd-934a3b658018",
   "metadata": {},
   "outputs": [
    {
     "data": {
      "text/plain": [
       "'I am GOD'"
      ]
     },
     "execution_count": 10,
     "metadata": {},
     "output_type": "execute_result"
    }
   ],
   "source": [
    "\"I am GOD\""
   ]
  },
  {
   "cell_type": "code",
   "execution_count": 12,
   "id": "ed91a46d-d3ca-445d-adeb-26fc6b9a8c47",
   "metadata": {},
   "outputs": [
    {
     "data": {
      "text/plain": [
       "str"
      ]
     },
     "execution_count": 12,
     "metadata": {},
     "output_type": "execute_result"
    }
   ],
   "source": [
    "type(\"shuchi\")"
   ]
  },
  {
   "cell_type": "code",
   "execution_count": 9,
   "id": "50153cd0-4921-4467-abe2-2c32d04d5581",
   "metadata": {},
   "outputs": [
    {
     "data": {
      "text/plain": [
       "'Shuchi Shukla'"
      ]
     },
     "execution_count": 9,
     "metadata": {},
     "output_type": "execute_result"
    }
   ],
   "source": [
    "'Shuchi Shukla'"
   ]
  },
  {
   "cell_type": "markdown",
   "id": "2549fe6a-c890-42b9-815f-2d77245f1669",
   "metadata": {},
   "source": [
    "**Variable Assignment**"
   ]
  },
  {
   "cell_type": "code",
   "execution_count": 13,
   "id": "f1394512-b718-4a5a-aac9-5eff13f389e1",
   "metadata": {},
   "outputs": [],
   "source": [
    "# Syntax\n",
    "# var_name=values\n",
    "a=18"
   ]
  },
  {
   "cell_type": "code",
   "execution_count": 14,
   "id": "ca23985b-7581-438a-8b3c-d2d97ca5e6e5",
   "metadata": {},
   "outputs": [
    {
     "data": {
      "text/plain": [
       "int"
      ]
     },
     "execution_count": 14,
     "metadata": {},
     "output_type": "execute_result"
    }
   ],
   "source": [
    "type(a)"
   ]
  },
  {
   "cell_type": "code",
   "execution_count": 18,
   "id": "65e083f8-2458-4cef-a305-8d4e578d6063",
   "metadata": {},
   "outputs": [],
   "source": [
    "#  Mathematical operation with variable Assignment\n",
    "a=10\n",
    "b=20"
   ]
  },
  {
   "cell_type": "code",
   "execution_count": 20,
   "id": "34e3f97d-9c63-43dc-b3fa-82e84bcd0a3c",
   "metadata": {},
   "outputs": [
    {
     "name": "stdout",
     "output_type": "stream",
     "text": [
      "200\n",
      "0.5\n",
      "10\n",
      "200.5\n"
     ]
    }
   ],
   "source": [
    "print (a*b)\n",
    "print(a/b)\n",
    "print(a%b)\n",
    "print((a*b)+(a/b)) # BODMAS Rule\n",
    "\n",
    "     "
   ]
  },
  {
   "cell_type": "code",
   "execution_count": 21,
   "id": "21be6064-6a35-458d-afff-6f35e194f3eb",
   "metadata": {},
   "outputs": [
    {
     "name": "stdout",
     "output_type": "stream",
     "text": [
      "hello\n"
     ]
    }
   ],
   "source": [
    "#Various  ways of printing\n",
    "print(\"hello\")"
   ]
  },
  {
   "cell_type": "code",
   "execution_count": 22,
   "id": "9a50a704-7d76-4534-8d59-18e5fef93bbf",
   "metadata": {},
   "outputs": [],
   "source": [
    "first_name='shuchi'\n",
    "last_name='Shukla'"
   ]
  },
  {
   "cell_type": "code",
   "execution_count": 24,
   "id": "4f83223b-770e-4a79-ba7e-01021c4b4cd0",
   "metadata": {},
   "outputs": [
    {
     "name": "stdout",
     "output_type": "stream",
     "text": [
      "My  first name is shuchi and last name is Shukla\n"
     ]
    }
   ],
   "source": [
    "print(\"My  first name is {} and last name is {}\".format(first_name, last_name))"
   ]
  },
  {
   "cell_type": "code",
   "execution_count": 25,
   "id": "114aaefb-116e-4561-822b-8c95350dff59",
   "metadata": {},
   "outputs": [
    {
     "name": "stdout",
     "output_type": "stream",
     "text": [
      "My  first name is Shukla and last name is shuchi\n"
     ]
    }
   ],
   "source": [
    "print(\"My  first name is {} and last name is {}\".format(last_name, first_name))"
   ]
  },
  {
   "cell_type": "code",
   "execution_count": 29,
   "id": "a0510699-ae4e-42a9-bbe5-b8ad31704b50",
   "metadata": {},
   "outputs": [
    {
     "name": "stdout",
     "output_type": "stream",
     "text": [
      "My first name is shuchi and last name is Shukla\n"
     ]
    }
   ],
   "source": [
    " print(\"My first name is {first} and last name is {last}\".format(first=first_name, last=last_name))"
   ]
  },
  {
   "cell_type": "code",
   "execution_count": 30,
   "id": "6d74f72f-c454-48a7-8fed-0d35bf80c705",
   "metadata": {},
   "outputs": [
    {
     "name": "stdout",
     "output_type": "stream",
     "text": [
      "My first name is shuchi and last name is Shukla\n"
     ]
    }
   ],
   "source": [
    " print(\"My first name is {first} and last name is {last}\".format(last=last_name, first=first_name))"
   ]
  },
  {
   "cell_type": "code",
   "execution_count": 31,
   "id": "2d3c348b-aabd-401c-9d80-25a7ae32790c",
   "metadata": {},
   "outputs": [
    {
     "data": {
      "text/plain": [
       "6"
      ]
     },
     "execution_count": 31,
     "metadata": {},
     "output_type": "execute_result"
    }
   ],
   "source": [
    "len(\"shuchi\")"
   ]
  },
  {
   "cell_type": "code",
   "execution_count": 35,
   "id": "f8abcd35-f246-4fc8-9ca4-950e73f89d4d",
   "metadata": {},
   "outputs": [
    {
     "data": {
      "text/plain": [
       "list"
      ]
     },
     "execution_count": 35,
     "metadata": {},
     "output_type": "execute_result"
    }
   ],
   "source": [
    "type(['1', 3, 5])"
   ]
  },
  {
   "cell_type": "code",
   "execution_count": 36,
   "id": "030465bc-8924-4d29-beb4-45d7017aafd0",
   "metadata": {},
   "outputs": [],
   "source": [
    "my_str=\"shuchi\""
   ]
  },
  {
   "cell_type": "code",
   "execution_count": 38,
   "id": "000ac685-abed-4fdc-a241-1e7c8dd9864c",
   "metadata": {},
   "outputs": [
    {
     "data": {
      "text/plain": [
       "'shuchi'"
      ]
     },
     "execution_count": 38,
     "metadata": {},
     "output_type": "execute_result"
    }
   ],
   "source": [
    "my_str.lower()"
   ]
  },
  {
   "cell_type": "code",
   "execution_count": 40,
   "id": "8c724e02-abc9-43dd-9257-fef1ed39f70d",
   "metadata": {},
   "outputs": [
    {
     "name": "stdout",
     "output_type": "stream",
     "text": [
      "True\n",
      "True\n",
      "False\n",
      "False\n",
      "True\n",
      "True\n",
      "True\n"
     ]
    }
   ],
   "source": [
    "print(my_str.isalnum()) #check if all char are numbers\n",
    "print(my_str.isalpha()) # check if all char in string are alphabetic\n",
    "print(my_str.istitle()) # check if string contains title words\n",
    "print(my_str.isupper()) # check if string contains upper case\n",
    "print(my_str.islower()) # check if string contains lower case\n",
    "print(my_str.endswith('i')) #test if string ends with i \n",
    "print(my_str.startswith('s')) #test if string start with s"
   ]
  },
  {
   "cell_type": "markdown",
   "id": "c1df099d-bb47-4fe3-a213-2c7b6de03a73",
   "metadata": {},
   "source": [
    "**Boolean and Logical Operators**"
   ]
  },
  {
   "cell_type": "code",
   "execution_count": 41,
   "id": "e19dd449-59d4-49e7-b9c7-e39699fdf919",
   "metadata": {},
   "outputs": [
    {
     "data": {
      "text/plain": [
       "True"
      ]
     },
     "execution_count": 41,
     "metadata": {},
     "output_type": "execute_result"
    }
   ],
   "source": [
    "True and True"
   ]
  },
  {
   "cell_type": "code",
   "execution_count": 42,
   "id": "66159400-53e7-4435-9913-5d9ffb2231be",
   "metadata": {},
   "outputs": [
    {
     "data": {
      "text/plain": [
       "False"
      ]
     },
     "execution_count": 42,
     "metadata": {},
     "output_type": "execute_result"
    }
   ],
   "source": [
    "True and False"
   ]
  },
  {
   "cell_type": "code",
   "execution_count": 43,
   "id": "8eb15e5f-746e-4618-a5ba-c4e67d310ebd",
   "metadata": {},
   "outputs": [
    {
     "data": {
      "text/plain": [
       "True"
      ]
     },
     "execution_count": 43,
     "metadata": {},
     "output_type": "execute_result"
    }
   ],
   "source": [
    "True or True"
   ]
  },
  {
   "cell_type": "code",
   "execution_count": 44,
   "id": "404e1514-5d09-44b5-a910-18d7b54ae8cf",
   "metadata": {},
   "outputs": [],
   "source": [
    "str_example='hello World'\n",
    "my_str='Shuchi'"
   ]
  },
  {
   "cell_type": "code",
   "execution_count": 45,
   "id": "50c8b53a-eee9-4993-bedc-8de053cf25e8",
   "metadata": {},
   "outputs": [
    {
     "data": {
      "text/plain": [
       "True"
      ]
     },
     "execution_count": 45,
     "metadata": {},
     "output_type": "execute_result"
    }
   ],
   "source": [
    "my_str.isalpha() or str_example.isnum()\n"
   ]
  },
  {
   "cell_type": "markdown",
   "id": "18ffb17c-b200-4d92-9758-308369000f53",
   "metadata": {},
   "source": [
    "**Lists**\n",
    "\n",
    "\n",
    "A list is a data structure in Python that is a mutable, or changeable, ordered sequence of elements. Each element or value inside a list is called an item. Just as strings are defined as a character between quotes, lists are defined by having values between square bracket[]"
   ]
  },
  {
   "cell_type": "code",
   "execution_count": 46,
   "id": "ccafac03-329e-4a41-88f8-f93a388822f1",
   "metadata": {},
   "outputs": [],
   "source": [
    "lst_example=[]"
   ]
  },
  {
   "cell_type": "code",
   "execution_count": 47,
   "id": "153b6afb-9a16-4362-903a-eb5c2b73c5c6",
   "metadata": {},
   "outputs": [
    {
     "data": {
      "text/plain": [
       "list"
      ]
     },
     "execution_count": 47,
     "metadata": {},
     "output_type": "execute_result"
    }
   ],
   "source": [
    "type(lst_example)"
   ]
  },
  {
   "cell_type": "code",
   "execution_count": 48,
   "id": "823f6fe5-4972-4f17-aaa1-ebd00ccc1701",
   "metadata": {},
   "outputs": [],
   "source": [
    "lst = list()"
   ]
  },
  {
   "cell_type": "code",
   "execution_count": 49,
   "id": "309d3341-b48c-464a-86e9-46775147fbd9",
   "metadata": {},
   "outputs": [
    {
     "data": {
      "text/plain": [
       "list"
      ]
     },
     "execution_count": 49,
     "metadata": {},
     "output_type": "execute_result"
    }
   ],
   "source": [
    "type(lst)"
   ]
  },
  {
   "cell_type": "code",
   "execution_count": 50,
   "id": "557e65e0-614f-450e-ad32-36a7ff75ddc4",
   "metadata": {},
   "outputs": [],
   "source": [
    "lst=['Mathematics', 'Chemistry', 100, 200, 300, 204]"
   ]
  },
  {
   "cell_type": "code",
   "execution_count": 51,
   "id": "d167fde9-587f-4d8d-aa4e-9edc15784706",
   "metadata": {},
   "outputs": [
    {
     "data": {
      "text/plain": [
       "6"
      ]
     },
     "execution_count": 51,
     "metadata": {},
     "output_type": "execute_result"
    }
   ],
   "source": [
    "len(lst)"
   ]
  },
  {
   "cell_type": "code",
   "execution_count": 52,
   "id": "0490105d-20b8-4077-bfcc-013969cb5eb6",
   "metadata": {},
   "outputs": [
    {
     "data": {
      "text/plain": [
       "list"
      ]
     },
     "execution_count": 52,
     "metadata": {},
     "output_type": "execute_result"
    }
   ],
   "source": [
    "type(lst)"
   ]
  },
  {
   "cell_type": "markdown",
   "id": "80270a46-6bc9-4799-8aca-fc6c063ea2ec",
   "metadata": {},
   "source": [
    "**Append**"
   ]
  },
  {
   "cell_type": "code",
   "execution_count": 61,
   "id": "14834f35-64c8-4855-9556-19cf7b1563c4",
   "metadata": {},
   "outputs": [],
   "source": [
    "lst.append([\"shukla\", \"love you\"])"
   ]
  },
  {
   "cell_type": "code",
   "execution_count": 62,
   "id": "7bb6d6db-20c2-4eea-8d16-f2ab6c2b744b",
   "metadata": {},
   "outputs": [],
   "source": [
    "#.append is used to add element in the list\n",
    "lst.append(\"Shuchi\")"
   ]
  },
  {
   "cell_type": "code",
   "execution_count": 63,
   "id": "e94feff2-1308-4060-8562-31aea2326450",
   "metadata": {},
   "outputs": [
    {
     "data": {
      "text/plain": [
       "['Mathematics',\n",
       " 'Chemistry',\n",
       " 100,\n",
       " 200,\n",
       " 300,\n",
       " 204,\n",
       " 'Shuchi',\n",
       " ['shukla', 'love you'],\n",
       " 'Shuchi']"
      ]
     },
     "execution_count": 63,
     "metadata": {},
     "output_type": "execute_result"
    }
   ],
   "source": [
    "lst"
   ]
  },
  {
   "cell_type": "code",
   "execution_count": 55,
   "id": "bf9d7df8-b225-4abc-b89b-7a319e55abd9",
   "metadata": {},
   "outputs": [
    {
     "data": {
      "text/plain": [
       "'Shuchi'"
      ]
     },
     "execution_count": 55,
     "metadata": {},
     "output_type": "execute_result"
    }
   ],
   "source": [
    "## Indexing in list\n",
    "lst[6]"
   ]
  },
  {
   "cell_type": "code",
   "execution_count": 56,
   "id": "25933d87-c61b-4e7a-a2c9-41ee2fff03df",
   "metadata": {},
   "outputs": [
    {
     "data": {
      "text/plain": [
       "['Mathematics', 'Chemistry', 100, 200, 300, 204, 'Shuchi']"
      ]
     },
     "execution_count": 56,
     "metadata": {},
     "output_type": "execute_result"
    }
   ],
   "source": [
    "lst[:]"
   ]
  },
  {
   "cell_type": "code",
   "execution_count": 57,
   "id": "b389f057-c00a-4da1-ae42-eaf11e668ac7",
   "metadata": {},
   "outputs": [
    {
     "data": {
      "text/plain": [
       "['Chemistry', 100, 200, 300, 204, 'Shuchi']"
      ]
     },
     "execution_count": 57,
     "metadata": {},
     "output_type": "execute_result"
    }
   ],
   "source": [
    "lst[1:]"
   ]
  },
  {
   "cell_type": "code",
   "execution_count": 58,
   "id": "d4b5a0dd-efcd-448c-8d1f-9270d5e9f140",
   "metadata": {},
   "outputs": [
    {
     "data": {
      "text/plain": [
       "[100]"
      ]
     },
     "execution_count": 58,
     "metadata": {},
     "output_type": "execute_result"
    }
   ],
   "source": [
    "lst[2:3]"
   ]
  },
  {
   "cell_type": "code",
   "execution_count": 59,
   "id": "1045c6eb-aea5-498c-9936-6022473a0fec",
   "metadata": {},
   "outputs": [
    {
     "data": {
      "text/plain": [
       "['Chemistry']"
      ]
     },
     "execution_count": 59,
     "metadata": {},
     "output_type": "execute_result"
    }
   ],
   "source": [
    "lst[1:3:4]"
   ]
  },
  {
   "cell_type": "markdown",
   "id": "9a3046f7-3edc-4d05-a275-c90abd6b979a",
   "metadata": {},
   "source": [
    "**Insert**"
   ]
  },
  {
   "cell_type": "code",
   "execution_count": 64,
   "id": "e81fe270-dac8-41ab-b206-d3d67426956d",
   "metadata": {},
   "outputs": [],
   "source": [
    "##insert in a specific order\n",
    "lst.insert(1, \"Shuchi\")"
   ]
  },
  {
   "cell_type": "code",
   "execution_count": 65,
   "id": "e3cf32aa-57d3-4626-a468-3bdfe72ac6b6",
   "metadata": {},
   "outputs": [
    {
     "data": {
      "text/plain": [
       "['Mathematics',\n",
       " 'Shuchi',\n",
       " 'Chemistry',\n",
       " 100,\n",
       " 200,\n",
       " 300,\n",
       " 204,\n",
       " 'Shuchi',\n",
       " ['shukla', 'love you'],\n",
       " 'Shuchi']"
      ]
     },
     "execution_count": 65,
     "metadata": {},
     "output_type": "execute_result"
    }
   ],
   "source": [
    "lst"
   ]
  },
  {
   "cell_type": "code",
   "execution_count": 66,
   "id": "3bba4b53-9462-4162-82fe-f043fca6422e",
   "metadata": {},
   "outputs": [],
   "source": [
    "lst = [1,2,3]"
   ]
  },
  {
   "cell_type": "code",
   "execution_count": 68,
   "id": "31338f03-e3de-4509-80e6-d9c4a8c07d47",
   "metadata": {},
   "outputs": [],
   "source": [
    "lst.append([1,2,3])"
   ]
  },
  {
   "cell_type": "code",
   "execution_count": 69,
   "id": "e3fd7144-6c19-4436-96c8-c820d7ac6641",
   "metadata": {},
   "outputs": [],
   "source": [
    "lst.append([4,5])"
   ]
  },
  {
   "cell_type": "code",
   "execution_count": 70,
   "id": "82b263fc-8bf7-4b41-9c39-c9cb1305e703",
   "metadata": {},
   "outputs": [
    {
     "data": {
      "text/plain": [
       "[1, 2, 3, [1, 2, 3], [4, 5]]"
      ]
     },
     "execution_count": 70,
     "metadata": {},
     "output_type": "execute_result"
    }
   ],
   "source": [
    "lst"
   ]
  },
  {
   "cell_type": "markdown",
   "id": "205b82b5-ee9e-4258-bd11-56ab4dcb7d9a",
   "metadata": {},
   "source": [
    "**Extend Method**"
   ]
  },
  {
   "cell_type": "code",
   "execution_count": 72,
   "id": "362436f5-c5a6-4c52-bcb9-294d568341f3",
   "metadata": {},
   "outputs": [],
   "source": [
    "lst=[1, 2,3, 4, 5, 6]"
   ]
  },
  {
   "cell_type": "code",
   "execution_count": 75,
   "id": "202267ea-027c-4ea3-97c3-e0753e08e384",
   "metadata": {},
   "outputs": [],
   "source": [
    "lst.extend([8, 0])"
   ]
  },
  {
   "cell_type": "code",
   "execution_count": 76,
   "id": "3a253a23-9e8e-4621-9aa0-2a09cccc0b0d",
   "metadata": {},
   "outputs": [
    {
     "data": {
      "text/plain": [
       "[1, 2, 3, 4, 5, 6, 8, 0]"
      ]
     },
     "execution_count": 76,
     "metadata": {},
     "output_type": "execute_result"
    }
   ],
   "source": [
    "lst"
   ]
  },
  {
   "cell_type": "markdown",
   "id": "c0fd5f3f-12c9-44b6-8bf4-a799afe3d36b",
   "metadata": {},
   "source": [
    "**Various Operation that we can perform in list**"
   ]
  },
  {
   "cell_type": "code",
   "execution_count": 77,
   "id": "a7fc64b4-d5f5-49bf-aedb-ff01245148f2",
   "metadata": {},
   "outputs": [],
   "source": [
    "lst=[1, 2,3, 4,5]\n"
   ]
  },
  {
   "cell_type": "code",
   "execution_count": 78,
   "id": "ac926d2e-c5eb-4a2b-b5f0-203328fd5285",
   "metadata": {},
   "outputs": [
    {
     "data": {
      "text/plain": [
       "15"
      ]
     },
     "execution_count": 78,
     "metadata": {},
     "output_type": "execute_result"
    }
   ],
   "source": [
    "sum(lst)"
   ]
  },
  {
   "cell_type": "code",
   "execution_count": null,
   "id": "754fb840-2a8d-4cad-994f-75b60075d0e6",
   "metadata": {},
   "outputs": [],
   "source": []
  },
  {
   "cell_type": "markdown",
   "id": "2abbbe08-cd9a-4ba9-8eda-1a334168406b",
   "metadata": {},
   "source": [
    "**Pop() Method**"
   ]
  },
  {
   "cell_type": "code",
   "execution_count": 79,
   "id": "ea96f6da-c887-45fd-9a65-ee19af8067e4",
   "metadata": {},
   "outputs": [
    {
     "data": {
      "text/plain": [
       "5"
      ]
     },
     "execution_count": 79,
     "metadata": {},
     "output_type": "execute_result"
    }
   ],
   "source": [
    "lst.pop()"
   ]
  },
  {
   "cell_type": "code",
   "execution_count": 80,
   "id": "d27aa0ae-e53f-4eec-8a6c-ab7a07bbe523",
   "metadata": {},
   "outputs": [
    {
     "data": {
      "text/plain": [
       "[1, 2, 3, 4]"
      ]
     },
     "execution_count": 80,
     "metadata": {},
     "output_type": "execute_result"
    }
   ],
   "source": [
    "lst"
   ]
  },
  {
   "cell_type": "code",
   "execution_count": 81,
   "id": "53c1a66e-4f6f-4517-8430-5efd7c4beb37",
   "metadata": {},
   "outputs": [
    {
     "data": {
      "text/plain": [
       "1"
      ]
     },
     "execution_count": 81,
     "metadata": {},
     "output_type": "execute_result"
    }
   ],
   "source": [
    "lst.pop(0)"
   ]
  },
  {
   "cell_type": "code",
   "execution_count": 82,
   "id": "7f3998b1-abb1-4f7a-8185-5c58189aaaac",
   "metadata": {},
   "outputs": [
    {
     "data": {
      "text/plain": [
       "[2, 3, 4]"
      ]
     },
     "execution_count": 82,
     "metadata": {},
     "output_type": "execute_result"
    }
   ],
   "source": [
    "lst"
   ]
  },
  {
   "cell_type": "markdown",
   "id": "314b211a-cb66-42b5-8464-758f2bc03c1d",
   "metadata": {},
   "source": [
    "**count() : Calculates total occurence of given element of List**"
   ]
  },
  {
   "cell_type": "code",
   "execution_count": 86,
   "id": "be2e331e-70b0-4679-a096-591cad289682",
   "metadata": {},
   "outputs": [
    {
     "data": {
      "text/plain": [
       "5"
      ]
     },
     "execution_count": 86,
     "metadata": {},
     "output_type": "execute_result"
    }
   ],
   "source": [
    "lst=[1,2,2, 2, 2,2,3,4, 5]\n",
    "lst.count(2)"
   ]
  },
  {
   "cell_type": "code",
   "execution_count": 87,
   "id": "f48e6b11-70cf-4526-ab9f-9f7a3c1edb9b",
   "metadata": {},
   "outputs": [
    {
     "data": {
      "text/plain": [
       "9"
      ]
     },
     "execution_count": 87,
     "metadata": {},
     "output_type": "execute_result"
    }
   ],
   "source": [
    "#Length: calculates total length of list\n",
    "len(lst)"
   ]
  },
  {
   "cell_type": "code",
   "execution_count": 88,
   "id": "4fe21c83-8dc5-4241-9b3a-548113b98b30",
   "metadata": {},
   "outputs": [
    {
     "data": {
      "text/plain": [
       "0"
      ]
     },
     "execution_count": 88,
     "metadata": {},
     "output_type": "execute_result"
    }
   ],
   "source": [
    "#index(): Returns the index of first occurence. Start an d End index are not necessary parameters\n",
    "lst.index(1, 0, 4)"
   ]
  },
  {
   "cell_type": "code",
   "execution_count": 89,
   "id": "e6a36f80-8ea0-45d9-bbdb-d46d26812342",
   "metadata": {},
   "outputs": [
    {
     "data": {
      "text/plain": [
       "1"
      ]
     },
     "execution_count": 89,
     "metadata": {},
     "output_type": "execute_result"
    }
   ],
   "source": [
    "##Min and max\n",
    "min(lst)"
   ]
  },
  {
   "cell_type": "code",
   "execution_count": 90,
   "id": "c4d53ade-731c-4475-8377-e000e1496e35",
   "metadata": {},
   "outputs": [
    {
     "data": {
      "text/plain": [
       "5"
      ]
     },
     "execution_count": 90,
     "metadata": {},
     "output_type": "execute_result"
    }
   ],
   "source": [
    "max(lst)"
   ]
  },
  {
   "cell_type": "markdown",
   "id": "7468b7a0-38a2-4385-8777-42f0653db66d",
   "metadata": {},
   "source": [
    " **L-3: Python Sets, Dictionaries and Tuples**"
   ]
  },
  {
   "cell_type": "markdown",
   "id": "2eb964c3-6239-42ef-af02-a0da203d0881",
   "metadata": {},
   "source": [
    "**SETS**\n",
    "\n",
    "A set is an unordered collection data types that is iterable, mutable, and has no duplicate elements. Python set class represents the mathematical notion of a set. \n",
    "- This is based on a data structure known as a hash table.\n",
    "  "
   ]
  },
  {
   "cell_type": "code",
   "execution_count": 94,
   "id": "93093c1d-071f-499a-a7c1-7e3ae493f0d3",
   "metadata": {},
   "outputs": [
    {
     "name": "stdout",
     "output_type": "stream",
     "text": [
      "set()\n",
      "<class 'set'>\n"
     ]
    }
   ],
   "source": [
    "## Defining an empty set\n",
    "set_var=set()\n",
    "print(set_var)\n",
    "print(type(set_var))"
   ]
  },
  {
   "cell_type": "code",
   "execution_count": 95,
   "id": "32612094-f08d-49a1-a8b5-6b5f8f5755da",
   "metadata": {},
   "outputs": [
    {
     "name": "stdout",
     "output_type": "stream",
     "text": [
      "{'IronMan', 'Avengers', 'Hitman'}\n"
     ]
    },
    {
     "data": {
      "text/plain": [
       "set"
      ]
     },
     "execution_count": 95,
     "metadata": {},
     "output_type": "execute_result"
    }
   ],
   "source": [
    "set_var={\"Avengers\", \"IronMan\", \"Hitman\"}\n",
    "print(set_var)\n",
    "type(set_var)"
   ]
  },
  {
   "cell_type": "code",
   "execution_count": 98,
   "id": "1df164d2-9b65-4c88-9f6c-42610c327147",
   "metadata": {},
   "outputs": [],
   "source": [
    "set_var={1,2, 3, 4}"
   ]
  },
  {
   "cell_type": "code",
   "execution_count": 99,
   "id": "c04ccb5b-4213-429d-8433-43b5b8bccd30",
   "metadata": {},
   "outputs": [],
   "source": [
    "# inbuilt function in set\n",
    "set_var.add(\"Hulk\")"
   ]
  },
  {
   "cell_type": "code",
   "execution_count": 100,
   "id": "76cf8dba-7b40-488b-9613-3752357a717f",
   "metadata": {},
   "outputs": [
    {
     "name": "stdout",
     "output_type": "stream",
     "text": [
      "{1, 2, 3, 4, 'Hulk'}\n"
     ]
    }
   ],
   "source": [
    "print(set_var)"
   ]
  },
  {
   "cell_type": "code",
   "execution_count": 4,
   "id": "362bb967-b2d1-420d-b208-40a6bd464dc2",
   "metadata": {},
   "outputs": [],
   "source": [
    "set1={\"Avengers\", \"Ironman\", \"Shuchi\", \"Shukla\"}\n",
    "set2={\"Avengers\", \"Ironman\"}\n"
   ]
  },
  {
   "cell_type": "code",
   "execution_count": 7,
   "id": "b13fa815-396c-41e0-aedb-db88a58dac8f",
   "metadata": {},
   "outputs": [
    {
     "data": {
      "text/plain": [
       "{'Avengers', 'Ironman'}"
      ]
     },
     "execution_count": 7,
     "metadata": {},
     "output_type": "execute_result"
    }
   ],
   "source": [
    "set2.intersection(set1)"
   ]
  },
  {
   "cell_type": "code",
   "execution_count": 9,
   "id": "eb19e65b-1534-4716-ac20-1dba2249c4d5",
   "metadata": {},
   "outputs": [],
   "source": [
    "set2.intersection_update(set1)"
   ]
  },
  {
   "cell_type": "code",
   "execution_count": 10,
   "id": "88a51eda-2926-4a92-bee7-5240f0af926f",
   "metadata": {},
   "outputs": [
    {
     "data": {
      "text/plain": [
       "{'Avengers', 'Ironman'}"
      ]
     },
     "execution_count": 10,
     "metadata": {},
     "output_type": "execute_result"
    }
   ],
   "source": [
    "set2"
   ]
  },
  {
   "cell_type": "code",
   "execution_count": 11,
   "id": "18268c7c-d1ce-4275-b036-56a036bdf93b",
   "metadata": {},
   "outputs": [
    {
     "data": {
      "text/plain": [
       "{'Avengers', 'Ironman', 'Shuchi', 'Shukla'}"
      ]
     },
     "execution_count": 11,
     "metadata": {},
     "output_type": "execute_result"
    }
   ],
   "source": [
    "set1"
   ]
  },
  {
   "cell_type": "code",
   "execution_count": 103,
   "id": "39740da2-5d0a-4731-b4e8-f19d5fbccc9c",
   "metadata": {},
   "outputs": [
    {
     "data": {
      "text/plain": [
       "{'Shuchi', 'Shukla'}"
      ]
     },
     "execution_count": 103,
     "metadata": {},
     "output_type": "execute_result"
    }
   ],
   "source": [
    "#difference\n",
    "set1.difference(set2)"
   ]
  },
  {
   "cell_type": "code",
   "execution_count": 13,
   "id": "8fa5aa1a-2ee3-42b9-b77f-31a6f8f7d92d",
   "metadata": {},
   "outputs": [],
   "source": [
    "# Difference update\n",
    "set2.difference_update(set1)"
   ]
  },
  {
   "cell_type": "code",
   "execution_count": 12,
   "id": "7799c0e9-9fe8-414e-a21c-7e6ee70fb852",
   "metadata": {},
   "outputs": [
    {
     "name": "stdout",
     "output_type": "stream",
     "text": [
      "{'Avengers', 'Ironman'}\n"
     ]
    }
   ],
   "source": [
    "print(set2)"
   ]
  },
  {
   "cell_type": "code",
   "execution_count": 14,
   "id": "1a005940-2640-4747-adc6-b65f20ca4a83",
   "metadata": {},
   "outputs": [
    {
     "name": "stdout",
     "output_type": "stream",
     "text": [
      "{'Shukla', 'Avengers', 'Shuchi', 'Ironman'}\n"
     ]
    }
   ],
   "source": [
    "print(set1)"
   ]
  },
  {
   "cell_type": "markdown",
   "id": "5607d706-78c2-49a1-ada2-30ad36be3129",
   "metadata": {},
   "source": [
    "**Dictionaries**\n",
    "\n",
    "A dictionary is a collection which is unordered, unchangeable and indexed. In python dictionaries are written with curly brackets, an they have keys and values,"
   ]
  },
  {
   "cell_type": "code",
   "execution_count": 15,
   "id": "451f6387-526e-493a-95c1-92e267530fb3",
   "metadata": {},
   "outputs": [],
   "source": [
    "dic = {}"
   ]
  },
  {
   "cell_type": "code",
   "execution_count": 16,
   "id": "502fcc0b-9e14-4229-b01f-c565c6fc4b21",
   "metadata": {},
   "outputs": [
    {
     "data": {
      "text/plain": [
       "dict"
      ]
     },
     "execution_count": 16,
     "metadata": {},
     "output_type": "execute_result"
    }
   ],
   "source": [
    "type(dic)"
   ]
  },
  {
   "cell_type": "code",
   "execution_count": 18,
   "id": "cea6ef24-1a79-4408-a59a-887e60b705b7",
   "metadata": {},
   "outputs": [],
   "source": [
    "dic = {1, 2, 3, 4, 5, 6,  7}\n"
   ]
  },
  {
   "cell_type": "code",
   "execution_count": 19,
   "id": "b1e6f8a5-a399-476a-af05-afa118c7990c",
   "metadata": {},
   "outputs": [
    {
     "data": {
      "text/plain": [
       "set"
      ]
     },
     "execution_count": 19,
     "metadata": {},
     "output_type": "execute_result"
    }
   ],
   "source": [
    "type(dic)"
   ]
  },
  {
   "cell_type": "code",
   "execution_count": 20,
   "id": "5c3108e3-1e5c-4e9f-a520-42011f03eeec",
   "metadata": {},
   "outputs": [],
   "source": [
    "## let create a dictionary\n",
    "my_dict={\"car1\":\"Audi\", \"car2\":\"BMW\", \"car3\":\"Mercidies Benz\"}"
   ]
  },
  {
   "cell_type": "code",
   "execution_count": 21,
   "id": "cf38ffcd-5e36-4cd5-bbcc-b6dea809674c",
   "metadata": {},
   "outputs": [
    {
     "data": {
      "text/plain": [
       "dict"
      ]
     },
     "execution_count": 21,
     "metadata": {},
     "output_type": "execute_result"
    }
   ],
   "source": [
    "type(my_dict)"
   ]
  },
  {
   "cell_type": "code",
   "execution_count": 22,
   "id": "e8e7c64b-6fd5-4fd6-aebb-88afe3b8377e",
   "metadata": {},
   "outputs": [
    {
     "data": {
      "text/plain": [
       "'Audi'"
      ]
     },
     "execution_count": 22,
     "metadata": {},
     "output_type": "execute_result"
    }
   ],
   "source": [
    "my_dict['car1']"
   ]
  },
  {
   "cell_type": "code",
   "execution_count": 23,
   "id": "73f4775c-78da-474c-8258-f64912f0ec35",
   "metadata": {},
   "outputs": [
    {
     "data": {
      "text/plain": [
       "'BMW'"
      ]
     },
     "execution_count": 23,
     "metadata": {},
     "output_type": "execute_result"
    }
   ],
   "source": [
    "my_dict['car2']"
   ]
  },
  {
   "cell_type": "code",
   "execution_count": 25,
   "id": "9e174ef1-b563-4c5d-9055-e380cd20eb13",
   "metadata": {},
   "outputs": [
    {
     "name": "stdout",
     "output_type": "stream",
     "text": [
      "car1\n",
      "car2\n",
      "car3\n"
     ]
    }
   ],
   "source": [
    "## We can even loop throughout the dictionaries keys.\n",
    "\n",
    "for x in my_dict:\n",
    "    print(x)"
   ]
  },
  {
   "cell_type": "code",
   "execution_count": 26,
   "id": "4e19ac05-69cf-4083-86c6-43139e390e3d",
   "metadata": {},
   "outputs": [
    {
     "name": "stdout",
     "output_type": "stream",
     "text": [
      "Audi\n",
      "BMW\n",
      "Mercidies Benz\n"
     ]
    }
   ],
   "source": [
    "# We can even loop through the dictionaries values\n",
    "for x in my_dict.values():\n",
    "    print(x)"
   ]
  },
  {
   "cell_type": "code",
   "execution_count": 27,
   "id": "4619de4e-d1cc-4cc0-a242-5a8d21acd32d",
   "metadata": {},
   "outputs": [
    {
     "name": "stdout",
     "output_type": "stream",
     "text": [
      "('car1', 'Audi')\n",
      "('car2', 'BMW')\n",
      "('car3', 'Mercidies Benz')\n"
     ]
    }
   ],
   "source": [
    "# We can also check both keys and values \n",
    "for x in my_dict.items():\n",
    "    print(x)"
   ]
  },
  {
   "cell_type": "code",
   "execution_count": 28,
   "id": "ae0209a0-8ab0-4dd0-8c4e-43995b920028",
   "metadata": {},
   "outputs": [],
   "source": [
    "##Adding items in Dictionaries\n",
    "my_dict['car4'] = 'Audi 2.0'"
   ]
  },
  {
   "cell_type": "code",
   "execution_count": 29,
   "id": "1f7fc506-eab9-4aab-a383-483a3af3919e",
   "metadata": {},
   "outputs": [
    {
     "data": {
      "text/plain": [
       "{'car1': 'Audi', 'car2': 'BMW', 'car3': 'Mercidies Benz', 'car4': 'Audi 2.0'}"
      ]
     },
     "execution_count": 29,
     "metadata": {},
     "output_type": "execute_result"
    }
   ],
   "source": [
    "my_dict"
   ]
  },
  {
   "cell_type": "code",
   "execution_count": 34,
   "id": "ebc192b8-390d-4ed3-b0a9-b0ab36abb89e",
   "metadata": {},
   "outputs": [],
   "source": [
    "my_dict['car1'] = 'Maruti'"
   ]
  },
  {
   "cell_type": "code",
   "execution_count": 35,
   "id": "b0471bd8-c791-4722-b451-8028e651a9eb",
   "metadata": {},
   "outputs": [
    {
     "data": {
      "text/plain": [
       "{'car1': 'Maruti', 'car2': 'BMW', 'car3': 'Mercidies Benz', 'car4': 'Audi 2.0'}"
      ]
     },
     "execution_count": 35,
     "metadata": {},
     "output_type": "execute_result"
    }
   ],
   "source": [
    "my_dict"
   ]
  },
  {
   "cell_type": "markdown",
   "id": "2327962c-0de1-4587-addf-88aa45fe2d5e",
   "metadata": {},
   "source": [
    "**Nested Dictionary**"
   ]
  },
  {
   "cell_type": "code",
   "execution_count": 36,
   "id": "55cfefde-906d-4435-befb-be85c4c5dfc3",
   "metadata": {},
   "outputs": [],
   "source": [
    "car1_model = {'Mercedes':1960}\n",
    "car2_model = {'Audi':2968}\n",
    "car3_model = {'Ambassador':459697}\n",
    "\n",
    "car_type={'car1':car1_model,'car2':car2_model, 'car3':car3_model}\n"
   ]
  },
  {
   "cell_type": "code",
   "execution_count": 37,
   "id": "ca65a650-0c3a-43b3-b878-98181ec8930d",
   "metadata": {},
   "outputs": [
    {
     "name": "stdout",
     "output_type": "stream",
     "text": [
      "{'car1': {'Mercedes': 1960}, 'car2': {'Audi': 2968}, 'car3': {'Ambassador': 459697}}\n"
     ]
    }
   ],
   "source": [
    "print(car_type)"
   ]
  },
  {
   "cell_type": "code",
   "execution_count": 38,
   "id": "69cbd25a-a6fd-4c6b-a047-784f8b4639c0",
   "metadata": {},
   "outputs": [
    {
     "name": "stdout",
     "output_type": "stream",
     "text": [
      "{'Mercedes': 1960}\n"
     ]
    }
   ],
   "source": [
    "##Acessing the item in the dictionary\n",
    "print(car_type['car1'])"
   ]
  },
  {
   "cell_type": "code",
   "execution_count": 40,
   "id": "5dd341fc-7aa5-47fb-93a6-2ea123829736",
   "metadata": {},
   "outputs": [
    {
     "name": "stdout",
     "output_type": "stream",
     "text": [
      "1960\n"
     ]
    }
   ],
   "source": [
    "print(car_type['car1']['Mercedes'])"
   ]
  },
  {
   "cell_type": "markdown",
   "id": "3970a8f0-c5b0-4cb5-a139-db949f77cad8",
   "metadata": {},
   "source": [
    "**Tuples**\n",
    "\n",
    "It is used where the definition item of requirement is just one time. A round bracket is used to represent it."
   ]
  },
  {
   "cell_type": "code",
   "execution_count": 44,
   "id": "35daa854-985d-4ae3-b979-5600d7fadc1b",
   "metadata": {},
   "outputs": [],
   "source": [
    "## create an empty tuples\n",
    "my_tuple=tuple()"
   ]
  },
  {
   "cell_type": "code",
   "execution_count": 45,
   "id": "e840c226-b28a-4cd2-bf97-c89d0cb22556",
   "metadata": {},
   "outputs": [
    {
     "data": {
      "text/plain": [
       "tuple"
      ]
     },
     "execution_count": 45,
     "metadata": {},
     "output_type": "execute_result"
    }
   ],
   "source": [
    "type(my_tuple)"
   ]
  },
  {
   "cell_type": "code",
   "execution_count": 46,
   "id": "2dab4b97-3d3c-468c-bcfe-e093bd7de6ab",
   "metadata": {},
   "outputs": [],
   "source": [
    "my_tuple = ()"
   ]
  },
  {
   "cell_type": "code",
   "execution_count": 47,
   "id": "aba9abe7-b126-4df8-8605-757ad7d5dc17",
   "metadata": {},
   "outputs": [
    {
     "data": {
      "text/plain": [
       "tuple"
      ]
     },
     "execution_count": 47,
     "metadata": {},
     "output_type": "execute_result"
    }
   ],
   "source": [
    "type(my_tuple)"
   ]
  },
  {
   "cell_type": "code",
   "execution_count": 58,
   "id": "3fcffcad-26b7-4ca0-8203-029d2e4e7498",
   "metadata": {},
   "outputs": [],
   "source": [
    "my_tuple = (\"Krish\", \"Shuchi\", \"love\")"
   ]
  },
  {
   "cell_type": "code",
   "execution_count": 59,
   "id": "da6a0bf6-3647-4ca3-baca-8a5d62710452",
   "metadata": {},
   "outputs": [],
   "source": [
    "my_tuple=('shukla', 'Hello')"
   ]
  },
  {
   "cell_type": "code",
   "execution_count": 60,
   "id": "3bebf805-ccde-44e9-964d-15f8ee77177b",
   "metadata": {},
   "outputs": [
    {
     "name": "stdout",
     "output_type": "stream",
     "text": [
      "('shukla', 'Hello')\n",
      "<class 'tuple'>\n"
     ]
    }
   ],
   "source": [
    "print(my_tuple)\n",
    "print(type(my_tuple))"
   ]
  },
  {
   "cell_type": "code",
   "execution_count": 63,
   "id": "2f11f2c9-d549-40e9-98ed-bdd3b5b3dcc2",
   "metadata": {},
   "outputs": [
    {
     "data": {
      "text/plain": [
       "1"
      ]
     },
     "execution_count": 63,
     "metadata": {},
     "output_type": "execute_result"
    }
   ],
   "source": [
    "## Inbuilt Function\n",
    "my_tuple.count('shukla')"
   ]
  },
  {
   "cell_type": "code",
   "execution_count": 62,
   "id": "56b94d2c-31b9-4221-8c89-2dd6223d075f",
   "metadata": {},
   "outputs": [
    {
     "data": {
      "text/plain": [
       "1"
      ]
     },
     "execution_count": 62,
     "metadata": {},
     "output_type": "execute_result"
    }
   ],
   "source": [
    "my_tuple.index('Hello')"
   ]
  },
  {
   "cell_type": "markdown",
   "id": "0c4c9df8-ac11-4c5c-98ab-8b2984f200e9",
   "metadata": {},
   "source": [
    "**L-4: Numpy and Inbuilt Function**\n",
    "\n",
    "Numpy is a general-purpose array package. It provides a high-performance multidimensional array object and tools for working these arrays. \n",
    "\n",
    "It is the fundamental package for scientific computing with python."
   ]
  },
  {
   "cell_type": "markdown",
   "id": "94d2d3fd-b0f4-4458-b71d-0fa35aa7b129",
   "metadata": {},
   "source": [
    "**What is an Array** \n",
    "\n",
    "An array is a data structure that stores values of same data types.\n",
    "In python, this is the main difference arrays and lists. While Python lists can contain values corresponding to the same data types, arrays in Python can only contain values corresponding to same data types."
   ]
  },
  {
   "cell_type": "code",
   "execution_count": 64,
   "id": "054e0822-de06-495d-bcbd-f049e92f6eba",
   "metadata": {},
   "outputs": [
    {
     "name": "stdout",
     "output_type": "stream",
     "text": [
      "Collecting numpyNote: you may need to restart the kernel to use updated packages.\n",
      "\n",
      "  Downloading numpy-1.25.2-cp310-cp310-win_amd64.whl (15.6 MB)\n",
      "     ---------------------------------------- 0.0/15.6 MB ? eta -:--:--\n",
      "      --------------------------------------- 0.2/15.6 MB 7.3 MB/s eta 0:00:03\n",
      "     - -------------------------------------- 0.6/15.6 MB 8.9 MB/s eta 0:00:02\n",
      "     -- ------------------------------------- 0.9/15.6 MB 8.2 MB/s eta 0:00:02\n",
      "     --- ------------------------------------ 1.3/15.6 MB 8.9 MB/s eta 0:00:02\n",
      "     ---- ----------------------------------- 1.9/15.6 MB 9.9 MB/s eta 0:00:02\n",
      "     ------ --------------------------------- 2.5/15.6 MB 10.5 MB/s eta 0:00:02\n",
      "     ------- -------------------------------- 3.1/15.6 MB 11.6 MB/s eta 0:00:02\n",
      "     --------- ------------------------------ 3.6/15.6 MB 11.4 MB/s eta 0:00:02\n",
      "     ---------- ----------------------------- 4.0/15.6 MB 11.7 MB/s eta 0:00:01\n",
      "     ----------- ---------------------------- 4.5/15.6 MB 12.0 MB/s eta 0:00:01\n",
      "     ------------- -------------------------- 5.1/15.6 MB 11.6 MB/s eta 0:00:01\n",
      "     -------------- ------------------------- 5.5/15.6 MB 11.4 MB/s eta 0:00:01\n",
      "     --------------- ------------------------ 6.0/15.6 MB 11.6 MB/s eta 0:00:01\n",
      "     ---------------- ----------------------- 6.4/15.6 MB 11.7 MB/s eta 0:00:01\n",
      "     ----------------- ---------------------- 6.9/15.6 MB 11.5 MB/s eta 0:00:01\n",
      "     ------------------ --------------------- 7.2/15.6 MB 11.3 MB/s eta 0:00:01\n",
      "     -------------------- ------------------- 8.0/15.6 MB 11.9 MB/s eta 0:00:01\n",
      "     ---------------------- ----------------- 8.6/15.6 MB 11.9 MB/s eta 0:00:01\n",
      "     ----------------------- ---------------- 9.2/15.6 MB 12.3 MB/s eta 0:00:01\n",
      "     ------------------------- -------------- 9.8/15.6 MB 12.3 MB/s eta 0:00:01\n",
      "     -------------------------- ------------ 10.5/15.6 MB 12.6 MB/s eta 0:00:01\n",
      "     ---------------------------- ---------- 11.3/15.6 MB 13.1 MB/s eta 0:00:01\n",
      "     ------------------------------ -------- 12.0/15.6 MB 13.6 MB/s eta 0:00:01\n",
      "     -------------------------------- ------ 12.8/15.6 MB 14.2 MB/s eta 0:00:01\n",
      "     --------------------------------- ----- 13.6/15.6 MB 14.2 MB/s eta 0:00:01\n",
      "     ----------------------------------- --- 14.2/15.6 MB 14.6 MB/s eta 0:00:01\n",
      "     ------------------------------------- - 15.0/15.6 MB 14.9 MB/s eta 0:00:01\n",
      "     --------------------------------------  15.6/15.6 MB 15.6 MB/s eta 0:00:01\n",
      "     --------------------------------------- 15.6/15.6 MB 14.2 MB/s eta 0:00:00\n",
      "Installing collected packages: numpy\n",
      "Successfully installed numpy-1.25.2\n"
     ]
    }
   ],
   "source": [
    "pip install numpy"
   ]
  },
  {
   "cell_type": "code",
   "execution_count": 6,
   "id": "4f9cbd09-d435-4552-8e09-912df0122377",
   "metadata": {},
   "outputs": [],
   "source": [
    "## initially lets import numpy\n",
    "import numpy as np"
   ]
  },
  {
   "cell_type": "code",
   "execution_count": 7,
   "id": "e043a6c9-f774-4476-b56f-7478a71a7013",
   "metadata": {},
   "outputs": [],
   "source": [
    "my_list=[1,2,3,4, 5]\n",
    "arr=np.array(my_list)"
   ]
  },
  {
   "cell_type": "code",
   "execution_count": 8,
   "id": "c872c59a-6d5b-4cb3-8791-94f594d2b4c1",
   "metadata": {},
   "outputs": [
    {
     "data": {
      "text/plain": [
       "numpy.ndarray"
      ]
     },
     "execution_count": 8,
     "metadata": {},
     "output_type": "execute_result"
    }
   ],
   "source": [
    "type(arr)"
   ]
  },
  {
   "cell_type": "code",
   "execution_count": 9,
   "id": "b15c9bde-448d-43c3-b2d4-6919e55fba9b",
   "metadata": {},
   "outputs": [
    {
     "data": {
      "text/plain": [
       "array([1, 2, 3, 4, 5])"
      ]
     },
     "execution_count": 9,
     "metadata": {},
     "output_type": "execute_result"
    }
   ],
   "source": [
    "arr # 1 -D array because only only [] one square bracket is here"
   ]
  },
  {
   "cell_type": "code",
   "execution_count": 10,
   "id": "10e1f2ff-5662-4c16-9789-7ddedfe18eef",
   "metadata": {},
   "outputs": [
    {
     "data": {
      "text/plain": [
       "(5,)"
      ]
     },
     "execution_count": 10,
     "metadata": {},
     "output_type": "execute_result"
    }
   ],
   "source": [
    "arr.shape"
   ]
  },
  {
   "cell_type": "code",
   "execution_count": 11,
   "id": "22ff39cc-be1f-4252-bfbd-a8b0e82f5400",
   "metadata": {},
   "outputs": [
    {
     "data": {
      "text/plain": [
       "array([1, 2, 3, 4, 5])"
      ]
     },
     "execution_count": 11,
     "metadata": {},
     "output_type": "execute_result"
    }
   ],
   "source": [
    "arr"
   ]
  },
  {
   "cell_type": "code",
   "execution_count": 12,
   "id": "02d27037-eff4-4900-848c-ea385a6284f8",
   "metadata": {},
   "outputs": [
    {
     "data": {
      "text/plain": [
       "numpy.ndarray"
      ]
     },
     "execution_count": 12,
     "metadata": {},
     "output_type": "execute_result"
    }
   ],
   "source": [
    "type(arr)"
   ]
  },
  {
   "cell_type": "code",
   "execution_count": 23,
   "id": "b8e3a94e-35eb-44fc-99cb-3785489943da",
   "metadata": {},
   "outputs": [],
   "source": [
    "## Multinested array\n",
    "my_list1=[1,2,3,4,5]\n",
    "my_list2=[2,3,4,5,6]\n",
    "my_list3=[9,8,7,6,6]\n",
    "\n",
    "arr=np.array([my_list1, my_list2, my_list3])\n"
   ]
  },
  {
   "cell_type": "code",
   "execution_count": 14,
   "id": "635e359d-25f5-4814-a05d-ea8a8aec9a93",
   "metadata": {},
   "outputs": [
    {
     "data": {
      "text/plain": [
       "array([[1, 2, 3, 4, 5],\n",
       "       [2, 3, 4, 5, 6],\n",
       "       [9, 8, 7, 6, 6]])"
      ]
     },
     "execution_count": 14,
     "metadata": {},
     "output_type": "execute_result"
    }
   ],
   "source": [
    "arr ## two-dimensional array[[]]"
   ]
  },
  {
   "cell_type": "code",
   "execution_count": 15,
   "id": "a2f30880-8052-49f8-bf54-342153af1b81",
   "metadata": {},
   "outputs": [
    {
     "data": {
      "text/plain": [
       "(3, 5)"
      ]
     },
     "execution_count": 15,
     "metadata": {},
     "output_type": "execute_result"
    }
   ],
   "source": [
    "arr.shape"
   ]
  },
  {
   "cell_type": "code",
   "execution_count": 16,
   "id": "ec335bc7-af6d-4330-a1f4-296e2970072c",
   "metadata": {},
   "outputs": [
    {
     "data": {
      "text/plain": [
       "array([[1, 2, 3],\n",
       "       [4, 5, 2],\n",
       "       [3, 4, 5],\n",
       "       [6, 9, 8],\n",
       "       [7, 6, 6]])"
      ]
     },
     "execution_count": 16,
     "metadata": {},
     "output_type": "execute_result"
    }
   ],
   "source": [
    "arr.reshape(5,3)"
   ]
  },
  {
   "cell_type": "code",
   "execution_count": 17,
   "id": "b619b837-6a7f-4c42-8e83-460711bf7265",
   "metadata": {},
   "outputs": [
    {
     "data": {
      "text/plain": [
       "array([[1, 2, 3, 4, 5, 2, 3, 4, 5, 6, 9, 8, 7, 6, 6]])"
      ]
     },
     "execution_count": 17,
     "metadata": {},
     "output_type": "execute_result"
    }
   ],
   "source": [
    "arr.reshape(1,15)"
   ]
  },
  {
   "cell_type": "code",
   "execution_count": 18,
   "id": "1baa0ea8-8ee8-4318-bcd8-405ac626e8e6",
   "metadata": {},
   "outputs": [
    {
     "data": {
      "text/plain": [
       "array([[1, 2, 3],\n",
       "       [4, 5, 2],\n",
       "       [3, 4, 5],\n",
       "       [6, 9, 8],\n",
       "       [7, 6, 6]])"
      ]
     },
     "execution_count": 18,
     "metadata": {},
     "output_type": "execute_result"
    }
   ],
   "source": [
    "arr.reshape(5,3) ## but not possible to reshape (5,4) \n",
    "#because elements will be 5*4=20 , have have only 5*3 = 15 \n"
   ]
  },
  {
   "cell_type": "code",
   "execution_count": 19,
   "id": "cd57e4cb-8fc4-413b-93d0-09184ae7518a",
   "metadata": {},
   "outputs": [
    {
     "data": {
      "text/plain": [
       "(3, 5)"
      ]
     },
     "execution_count": 19,
     "metadata": {},
     "output_type": "execute_result"
    }
   ],
   "source": [
    "## Check the shape of the array\n",
    "arr.shape\n"
   ]
  },
  {
   "cell_type": "markdown",
   "id": "216812af-51cc-473d-be89-5d50b641f542",
   "metadata": {},
   "source": [
    " **Indexing**\n",
    "\n",
    " Array reference type and value type"
   ]
  },
  {
   "cell_type": "code",
   "execution_count": 20,
   "id": "d7393d8b-ab2e-4c4b-9b02-a647c67a7476",
   "metadata": {},
   "outputs": [],
   "source": [
    "#Accessing the array elements\n",
    "arr=np.array([1,2,3,4,5,6,7,8])"
   ]
  },
  {
   "cell_type": "code",
   "execution_count": 21,
   "id": "ee9800dc-2465-4eab-a701-37531f7710ea",
   "metadata": {},
   "outputs": [
    {
     "data": {
      "text/plain": [
       "4"
      ]
     },
     "execution_count": 21,
     "metadata": {},
     "output_type": "execute_result"
    }
   ],
   "source": [
    "arr[3]"
   ]
  },
  {
   "cell_type": "code",
   "execution_count": 24,
   "id": "b4b050c1-4ea9-4b5c-ad75-f08bd70309a4",
   "metadata": {},
   "outputs": [
    {
     "data": {
      "text/plain": [
       "array([[1, 2, 3, 4, 5],\n",
       "       [2, 3, 4, 5, 6],\n",
       "       [9, 8, 7, 6, 6]])"
      ]
     },
     "execution_count": 24,
     "metadata": {},
     "output_type": "execute_result"
    }
   ],
   "source": [
    "arr"
   ]
  },
  {
   "cell_type": "code",
   "execution_count": 112,
   "id": "dd5f2afc-18b1-4e9a-8930-c955aa4ee9ef",
   "metadata": {},
   "outputs": [
    {
     "data": {
      "text/plain": [
       "array([[1, 2, 3, 4, 5],\n",
       "       [2, 3, 4, 5, 6],\n",
       "       [9, 8, 7, 6, 6]])"
      ]
     },
     "execution_count": 112,
     "metadata": {},
     "output_type": "execute_result"
    }
   ],
   "source": [
    "arr[:,:] #row index:column index start with 0"
   ]
  },
  {
   "cell_type": "code",
   "execution_count": 113,
   "id": "792a3ebe-017b-48ba-95f7-ab8458c4924b",
   "metadata": {},
   "outputs": [
    {
     "data": {
      "text/plain": [
       "array([[5, 6],\n",
       "       [6, 6]])"
      ]
     },
     "execution_count": 113,
     "metadata": {},
     "output_type": "execute_result"
    }
   ],
   "source": [
    "arr[1:3,3:]"
   ]
  },
  {
   "cell_type": "code",
   "execution_count": 114,
   "id": "14a22c5a-c75a-4a79-a8d8-fd1cb00c5b0d",
   "metadata": {},
   "outputs": [
    {
     "data": {
      "text/plain": [
       "array([[1, 2],\n",
       "       [2, 3]])"
      ]
     },
     "execution_count": 114,
     "metadata": {},
     "output_type": "execute_result"
    }
   ],
   "source": [
    "arr[0:2,0:2]"
   ]
  },
  {
   "cell_type": "code",
   "execution_count": 25,
   "id": "e943f18c-90f4-4cbf-a46a-e47594a2e0d9",
   "metadata": {},
   "outputs": [],
   "source": [
    "## inbuilt function \n",
    "arr = np.arange(0,10)"
   ]
  },
  {
   "cell_type": "code",
   "execution_count": 26,
   "id": "4bd3d8a3-f774-42b8-a697-c387a6ec67da",
   "metadata": {},
   "outputs": [
    {
     "data": {
      "text/plain": [
       "array([0, 1, 2, 3, 4, 5, 6, 7, 8, 9])"
      ]
     },
     "execution_count": 26,
     "metadata": {},
     "output_type": "execute_result"
    }
   ],
   "source": [
    "arr"
   ]
  },
  {
   "cell_type": "code",
   "execution_count": 118,
   "id": "9509c58e-8b42-431e-a551-7487003e272a",
   "metadata": {},
   "outputs": [],
   "source": [
    "arr = np.arange(0,10, step=2)"
   ]
  },
  {
   "cell_type": "code",
   "execution_count": 119,
   "id": "d9a76fd8-dd5d-4c22-9623-e0c195f60296",
   "metadata": {},
   "outputs": [
    {
     "data": {
      "text/plain": [
       "array([0, 2, 4, 6, 8])"
      ]
     },
     "execution_count": 119,
     "metadata": {},
     "output_type": "execute_result"
    }
   ],
   "source": [
    "arr"
   ]
  },
  {
   "cell_type": "code",
   "execution_count": 27,
   "id": "a8cd7ed0-dde4-4787-b40a-79f0ba911da2",
   "metadata": {},
   "outputs": [
    {
     "data": {
      "text/plain": [
       "array([ 1.        ,  1.18367347,  1.36734694,  1.55102041,  1.73469388,\n",
       "        1.91836735,  2.10204082,  2.28571429,  2.46938776,  2.65306122,\n",
       "        2.83673469,  3.02040816,  3.20408163,  3.3877551 ,  3.57142857,\n",
       "        3.75510204,  3.93877551,  4.12244898,  4.30612245,  4.48979592,\n",
       "        4.67346939,  4.85714286,  5.04081633,  5.2244898 ,  5.40816327,\n",
       "        5.59183673,  5.7755102 ,  5.95918367,  6.14285714,  6.32653061,\n",
       "        6.51020408,  6.69387755,  6.87755102,  7.06122449,  7.24489796,\n",
       "        7.42857143,  7.6122449 ,  7.79591837,  7.97959184,  8.16326531,\n",
       "        8.34693878,  8.53061224,  8.71428571,  8.89795918,  9.08163265,\n",
       "        9.26530612,  9.44897959,  9.63265306,  9.81632653, 10.        ])"
      ]
     },
     "execution_count": 27,
     "metadata": {},
     "output_type": "execute_result"
    }
   ],
   "source": [
    "np.linspace(1,10,50) "
   ]
  },
  {
   "cell_type": "code",
   "execution_count": 29,
   "id": "289b25b8-48a5-4947-8367-2c1f8e393d86",
   "metadata": {},
   "outputs": [],
   "source": [
    "arr[3:]=100  # copy() function and broadcasting"
   ]
  },
  {
   "cell_type": "code",
   "execution_count": 30,
   "id": "128f34ca-5d95-480d-9586-65ab971729a2",
   "metadata": {},
   "outputs": [
    {
     "data": {
      "text/plain": [
       "array([  0,   1,   2, 100, 100, 100, 100, 100, 100, 100])"
      ]
     },
     "execution_count": 30,
     "metadata": {},
     "output_type": "execute_result"
    }
   ],
   "source": [
    "arr"
   ]
  },
  {
   "cell_type": "code",
   "execution_count": 33,
   "id": "4316e7c8-1182-4558-b7cf-f03723df88cd",
   "metadata": {},
   "outputs": [],
   "source": [
    "arr1=arr"
   ]
  },
  {
   "cell_type": "code",
   "execution_count": 32,
   "id": "f8306b53-67b7-4825-9b21-460da715e356",
   "metadata": {},
   "outputs": [
    {
     "name": "stdout",
     "output_type": "stream",
     "text": [
      "[  0   1   2 100 100 100 100 100 100 100]\n"
     ]
    }
   ],
   "source": [
    "arr1[3:]=100\n",
    "print(arr1)"
   ]
  },
  {
   "cell_type": "code",
   "execution_count": 34,
   "id": "0fabd666-16e4-4ee1-b3e7-25f4c90b5af0",
   "metadata": {},
   "outputs": [
    {
     "name": "stdout",
     "output_type": "stream",
     "text": [
      "[  0   1   2 500 500 500 500 500 500 500]\n"
     ]
    }
   ],
   "source": [
    "arr1[3:]=500\n",
    "print(arr1)"
   ]
  },
  {
   "cell_type": "code",
   "execution_count": 35,
   "id": "c7a85459-4d0d-4a8e-9562-ede370d73971",
   "metadata": {},
   "outputs": [],
   "source": [
    "arr1=arr.copy()"
   ]
  },
  {
   "cell_type": "code",
   "execution_count": 37,
   "id": "39501960-fab9-4313-b2bc-136aba27887b",
   "metadata": {},
   "outputs": [
    {
     "name": "stdout",
     "output_type": "stream",
     "text": [
      "[  0   1   2 500 500 500 500 500 500 500]\n",
      "[   0    1    2 1000 1000 1000 1000 1000 1000 1000]\n"
     ]
    }
   ],
   "source": [
    "print(arr)   ## Array copy function \n",
    "arr1[3:]=1000\n",
    "print(arr1)"
   ]
  },
  {
   "cell_type": "code",
   "execution_count": 38,
   "id": "721be789-42a1-4320-86c2-1ae2c38cfbb1",
   "metadata": {},
   "outputs": [
    {
     "data": {
      "text/plain": [
       "array([  0,   1,   2, 500, 500, 500, 500, 500, 500, 500])"
      ]
     },
     "execution_count": 38,
     "metadata": {},
     "output_type": "execute_result"
    }
   ],
   "source": [
    "arr"
   ]
  },
  {
   "cell_type": "code",
   "execution_count": 43,
   "id": "2fe5513a-241e-4cc6-b5bc-b88b757abc97",
   "metadata": {},
   "outputs": [
    {
     "data": {
      "text/plain": [
       "array([0, 1, 2])"
      ]
     },
     "execution_count": 43,
     "metadata": {},
     "output_type": "execute_result"
    }
   ],
   "source": [
    "## Some  conditions very useful in exploratory data analysis\n",
    "val = 2\n",
    "arr<2\n",
    "arr*2\n",
    "arr/2\n",
    "arr[arr<300] #to find a particular no of elements in an array\n"
   ]
  },
  {
   "cell_type": "code",
   "execution_count": 44,
   "id": "bff49191-4e2f-4b3c-aacf-52f402c79b2e",
   "metadata": {},
   "outputs": [
    {
     "data": {
      "text/plain": [
       "array([[0, 1],\n",
       "       [2, 3],\n",
       "       [4, 5],\n",
       "       [6, 7],\n",
       "       [8, 9]])"
      ]
     },
     "execution_count": 44,
     "metadata": {},
     "output_type": "execute_result"
    }
   ],
   "source": [
    "##bcreate arrays and reshape\n",
    "np.arange(0,10).reshape(5,2)"
   ]
  },
  {
   "cell_type": "code",
   "execution_count": 52,
   "id": "c9325039-61a0-41c6-8e17-01b9cf0909e1",
   "metadata": {},
   "outputs": [],
   "source": [
    "arr1=np.arange(0,10).reshape(2,5)"
   ]
  },
  {
   "cell_type": "code",
   "execution_count": 53,
   "id": "88bd9d5f-6737-4810-99d2-2e05f7cb4a8b",
   "metadata": {},
   "outputs": [],
   "source": [
    "arr2=np.arange(0,10).reshape(2,5)"
   ]
  },
  {
   "cell_type": "code",
   "execution_count": 54,
   "id": "9902a7ab-db15-4a73-a650-27215754a48d",
   "metadata": {},
   "outputs": [
    {
     "data": {
      "text/plain": [
       "array([[ 0,  1,  4,  9, 16],\n",
       "       [25, 36, 49, 64, 81]])"
      ]
     },
     "execution_count": 54,
     "metadata": {},
     "output_type": "execute_result"
    }
   ],
   "source": [
    "arr1*arr2"
   ]
  },
  {
   "cell_type": "code",
   "execution_count": 58,
   "id": "8375fc63-470c-4210-9976-01dc200a5239",
   "metadata": {
    "jp-MarkdownHeadingCollapsed": true
   },
   "outputs": [
    {
     "data": {
      "text/plain": [
       "array([1., 1., 1., 1.])"
      ]
     },
     "execution_count": 58,
     "metadata": {},
     "output_type": "execute_result"
    }
   ],
   "source": [
    "np.ones(4, dtype=float) #showing 1. because we have written here np.ones. By default dtype is float"
   ]
  },
  {
   "cell_type": "code",
   "execution_count": 57,
   "id": "233b5376-cf1c-4373-acf9-1b2261839913",
   "metadata": {},
   "outputs": [
    {
     "data": {
      "text/plain": [
       "array([1., 1., 1., 1.])"
      ]
     },
     "execution_count": 57,
     "metadata": {},
     "output_type": "execute_result"
    }
   ],
   "source": [
    "np.ones(4) #by default float we can change it to write int"
   ]
  },
  {
   "cell_type": "code",
   "execution_count": 59,
   "id": "084afd27-dc3b-4d79-92aa-cd84f932418e",
   "metadata": {},
   "outputs": [
    {
     "data": {
      "text/plain": [
       "array([1, 1, 1, 1, 1])"
      ]
     },
     "execution_count": 59,
     "metadata": {},
     "output_type": "execute_result"
    }
   ],
   "source": [
    "np.ones(5,dtype=int)"
   ]
  },
  {
   "cell_type": "code",
   "execution_count": 61,
   "id": "da79485f-ac93-4139-bd2f-85c70c152ff5",
   "metadata": {},
   "outputs": [
    {
     "data": {
      "text/plain": [
       "array([[1, 1, 1, 1, 1],\n",
       "       [1, 1, 1, 1, 1]])"
      ]
     },
     "execution_count": 61,
     "metadata": {},
     "output_type": "execute_result"
    }
   ],
   "source": [
    "np.ones((2,5), dtype=int) # two-d array"
   ]
  },
  {
   "cell_type": "code",
   "execution_count": 63,
   "id": "5cd9d5c3-9356-4c98-9fbf-65e212d494a2",
   "metadata": {},
   "outputs": [
    {
     "data": {
      "text/plain": [
       "array([[0.74511945, 0.77941255, 0.14130603],\n",
       "       [0.44531451, 0.79067588, 0.53202461],\n",
       "       [0.1227838 , 0.74338756, 0.16202257]])"
      ]
     },
     "execution_count": 63,
     "metadata": {},
     "output_type": "execute_result"
    }
   ],
   "source": [
    "## random distribution - Here random will be changed, because there is random function\n",
    "np.random.rand(3,3)"
   ]
  },
  {
   "cell_type": "code",
   "execution_count": 68,
   "id": "3aa2ff67-223e-40d1-9870-610f38943e94",
   "metadata": {},
   "outputs": [
    {
     "name": "stdout",
     "output_type": "stream",
     "text": [
      "Requirement already satisfied: seaborn in c:\\users\\kumbh\\miniconda3\\lib\\site-packages (0.12.2)Note: you may need to restart the kernel to use updated packages.\n",
      "\n",
      "Requirement already satisfied: matplotlib!=3.6.1,>=3.1 in c:\\users\\kumbh\\miniconda3\\lib\\site-packages (from seaborn) (3.7.2)\n",
      "Requirement already satisfied: numpy!=1.24.0,>=1.17 in c:\\users\\kumbh\\miniconda3\\lib\\site-packages (from seaborn) (1.25.2)\n",
      "Requirement already satisfied: pandas>=0.25 in c:\\users\\kumbh\\miniconda3\\lib\\site-packages (from seaborn) (2.0.3)\n",
      "Requirement already satisfied: pillow>=6.2.0 in c:\\users\\kumbh\\miniconda3\\lib\\site-packages (from matplotlib!=3.6.1,>=3.1->seaborn) (10.0.0)\n",
      "Requirement already satisfied: kiwisolver>=1.0.1 in c:\\users\\kumbh\\miniconda3\\lib\\site-packages (from matplotlib!=3.6.1,>=3.1->seaborn) (1.4.4)\n",
      "Requirement already satisfied: contourpy>=1.0.1 in c:\\users\\kumbh\\miniconda3\\lib\\site-packages (from matplotlib!=3.6.1,>=3.1->seaborn) (1.1.0)\n",
      "Requirement already satisfied: fonttools>=4.22.0 in c:\\users\\kumbh\\miniconda3\\lib\\site-packages (from matplotlib!=3.6.1,>=3.1->seaborn) (4.42.0)\n",
      "Requirement already satisfied: pyparsing<3.1,>=2.3.1 in c:\\users\\kumbh\\miniconda3\\lib\\site-packages (from matplotlib!=3.6.1,>=3.1->seaborn) (3.0.9)\n",
      "Requirement already satisfied: python-dateutil>=2.7 in c:\\users\\kumbh\\miniconda3\\lib\\site-packages (from matplotlib!=3.6.1,>=3.1->seaborn) (2.8.2)\n",
      "Requirement already satisfied: packaging>=20.0 in c:\\users\\kumbh\\miniconda3\\lib\\site-packages (from matplotlib!=3.6.1,>=3.1->seaborn) (23.0)\n",
      "Requirement already satisfied: cycler>=0.10 in c:\\users\\kumbh\\miniconda3\\lib\\site-packages (from matplotlib!=3.6.1,>=3.1->seaborn) (0.11.0)\n",
      "Requirement already satisfied: tzdata>=2022.1 in c:\\users\\kumbh\\miniconda3\\lib\\site-packages (from pandas>=0.25->seaborn) (2023.3)\n",
      "Requirement already satisfied: pytz>=2020.1 in c:\\users\\kumbh\\miniconda3\\lib\\site-packages (from pandas>=0.25->seaborn) (2023.3)\n",
      "Requirement already satisfied: six>=1.5 in c:\\users\\kumbh\\miniconda3\\lib\\site-packages (from python-dateutil>=2.7->matplotlib!=3.6.1,>=3.1->seaborn) (1.16.0)\n"
     ]
    }
   ],
   "source": [
    "pip install seaborn"
   ]
  },
  {
   "cell_type": "code",
   "execution_count": 82,
   "id": "98db0e40-b5db-4d62-8b3c-4839aefdab01",
   "metadata": {},
   "outputs": [],
   "source": [
    "import seaborn as sns\n",
    "import pandas as pd"
   ]
  },
  {
   "cell_type": "code",
   "execution_count": 79,
   "id": "ac77da57-ca8c-45fe-962a-52e090894a00",
   "metadata": {},
   "outputs": [
    {
     "name": "stdout",
     "output_type": "stream",
     "text": [
      "Requirement already satisfied: pd in c:\\users\\kumbh\\miniconda3\\lib\\site-packages (0.0.4)\n",
      "Note: you may need to restart the kernel to use updated packages.\n"
     ]
    }
   ],
   "source": [
    "pip install pd"
   ]
  },
  {
   "cell_type": "code",
   "execution_count": 84,
   "id": "32d3f6ab-be32-4eae-a1ea-4416149b49eb",
   "metadata": {},
   "outputs": [],
   "source": [
    "arr_ex=np.random.randn(4,4)"
   ]
  },
  {
   "cell_type": "code",
   "execution_count": 85,
   "id": "a700152a-852b-45bb-9976-a474bbe5b87c",
   "metadata": {},
   "outputs": [
    {
     "data": {
      "text/plain": [
       "array([[ 0.34544525,  0.41172494, -1.48456403,  1.4589599 ],\n",
       "       [ 0.03425742, -0.10049299, -2.08403493,  0.82757211],\n",
       "       [-0.25848826,  0.45543069,  1.1602922 ,  2.13357161],\n",
       "       [ 0.17120052,  0.48056151,  1.47738064, -0.60649509]])"
      ]
     },
     "execution_count": 85,
     "metadata": {},
     "output_type": "execute_result"
    }
   ],
   "source": [
    "arr_ex"
   ]
  },
  {
   "cell_type": "code",
   "execution_count": 86,
   "id": "1d49420e-f8b9-4251-a04e-a97768a90433",
   "metadata": {},
   "outputs": [
    {
     "name": "stderr",
     "output_type": "stream",
     "text": [
      "C:\\Users\\kumbh\\AppData\\Local\\Temp\\ipykernel_7460\\1832295236.py:1: UserWarning: \n",
      "\n",
      "`distplot` is a deprecated function and will be removed in seaborn v0.14.0.\n",
      "\n",
      "Please adapt your code to use either `displot` (a figure-level function with\n",
      "similar flexibility) or `histplot` (an axes-level function for histograms).\n",
      "\n",
      "For a guide to updating your code to use the new functions, please see\n",
      "https://gist.github.com/mwaskom/de44147ed2974457ad6372750bbe5751\n",
      "\n",
      "  sns.distplot(pd.DataFrame(arr_ex.reshape(16,1)))\n"
     ]
    },
    {
     "data": {
      "text/plain": [
       "<Axes: ylabel='Density'>"
      ]
     },
     "execution_count": 86,
     "metadata": {},
     "output_type": "execute_result"
    },
    {
     "data": {
      "image/png": "[encoded data removed]",
      "text/plain": [
       "<Figure size 640x480 with 1 Axes>"
      ]
     },
     "metadata": {},
     "output_type": "display_data"
    }
   ],
   "source": [
    "sns.distplot(pd.DataFrame(arr_ex.reshape(16,1)))"
   ]
  },
  {
   "cell_type": "code",
   "execution_count": null,
   "id": "5f7d07ed-6f0e-43d5-85a8-d22de6a06034",
   "metadata": {},
   "outputs": [],
   "source": []
  }
 ],
 "metadata": {
  "kernelspec": {
   "display_name": "Python 3 (ipykernel)",
   "language": "python",
   "name": "python3"
  },
  "language_info": {
   "codemirror_mode": {
    "name": "ipython",
    "version": 3
   },
   "file_extension": ".py",
   "mimetype": "text/x-python",
   "name": "python",
   "nbconvert_exporter": "python",
   "pygments_lexer": "ipython3",
   "version": "3.10.10"
  }
 },
 "nbformat": 4,
 "nbformat_minor": 5
}
